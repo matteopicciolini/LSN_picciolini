{
 "cells": [
  {
   "cell_type": "markdown",
   "id": "bb5fc501",
   "metadata": {},
   "source": [
    "Matteo Picciolini\n",
    "# Esercitazione 9"
   ]
  },
  {
   "cell_type": "code",
   "execution_count": 1,
   "id": "5d5cb53f",
   "metadata": {},
   "outputs": [
    {
     "data": {
      "text/html": [
       "\n",
       "<style>\n",
       ".output_png {\n",
       "    display: table-cell;\n",
       "    text-align: center;\n",
       "    vertical-align: middle;\n",
       "}\n",
       "</style>\n"
      ],
      "text/plain": [
       "<IPython.core.display.HTML object>"
      ]
     },
     "execution_count": 1,
     "metadata": {},
     "output_type": "execute_result"
    }
   ],
   "source": [
    "#matplotlib\n",
    "import matplotlib\n",
    "import matplotlib.pyplot as plt\n",
    "import matplotlib.gridspec as gridspec\n",
    "\n",
    "#numpy\n",
    "import numpy as np\n",
    "\n",
    "#center graphs\n",
    "from IPython.core.display import HTML\n",
    "HTML(\"\"\"\n",
    "<style>\n",
    ".output_png {\n",
    "    display: table-cell;\n",
    "    text-align: center;\n",
    "    vertical-align: middle;\n",
    "}\n",
    "</style>\n",
    "\"\"\")"
   ]
  },
  {
   "cell_type": "markdown",
   "id": "2b9afbe3",
   "metadata": {},
   "source": [
    "## Problema del commesso viaggitatore\n",
    "Il problema del commesso viaggiatore (Traveling Salesman Problem, TSP) è un noto problema di ottimizzazione combinatoria. L'obiettivo è trovare il percorso più breve che un commesso viaggiatore deve seguire per visitare un insieme di città esattamente una volta e poi ritornare alla città di partenza.\n",
    "\n",
    "Formalmente, dato un insieme di città e le distanze tra ciascuna coppia di città, il problema consiste nel trovare il percorso che minimizza la lunghezza totale del tragitto. Il percorso deve soddisfare il vincolo di passare attraverso ogni città una sola volta e tornare alla città di partenza.\n",
    "\n",
    "Nel nostro caso, il \"commesso\" è rappresentato da un piccione che si sposta in linea d'aria da una città all'altra. Pertanto, il percorso ottimale da trovare è una particolare permutazione delle coordinate delle città che minimizza una \"funzione costo\". Abbiamo due opzioni per questa funzione costo:\n",
    "\n",
    "$$L^{(2)}(\\vec{x}_1, \\vec{x}_2, \\dots, \\vec{x}_N) = \\sum{i=1}^{N} |\\vec{x}_i-\\vec{x}_{i+1}|^2$$\n",
    "$$L^{(1)}(\\vec{x}_1, \\vec{x}_2, \\dots, \\vec{x}_N) = \\sum{i=1}^{N} |\\vec{x}_i-\\vec{x}_{i+1}|$$\n",
    "Dove $\\vec{x}_{N+1}=\\vec{x}_1$. Nella mia analisi, ho scelto di utilizzare $L^{(1)}$ per semplificare il confronto con i risultati attesi."
   ]
  },
  {
   "cell_type": "markdown",
   "id": "2b37c001",
   "metadata": {},
   "source": [
    "## Algoritmo genetico\n"
   ]
  },
  {
   "cell_type": "code",
   "execution_count": null,
   "id": "f7b3584f",
   "metadata": {},
   "outputs": [],
   "source": []
  }
 ],
 "metadata": {
  "kernelspec": {
   "display_name": "Python 3 (ipykernel)",
   "language": "python",
   "name": "python3"
  },
  "language_info": {
   "codemirror_mode": {
    "name": "ipython",
    "version": 3
   },
   "file_extension": ".py",
   "mimetype": "text/x-python",
   "name": "python",
   "nbconvert_exporter": "python",
   "pygments_lexer": "ipython3",
   "version": "3.9.13"
  }
 },
 "nbformat": 4,
 "nbformat_minor": 5
}
