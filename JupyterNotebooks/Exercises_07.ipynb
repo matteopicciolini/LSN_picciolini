{
 "cells": [
  {
   "cell_type": "markdown",
   "metadata": {},
   "source": [
    "Matteo Picciolini"
   ]
  },
  {
   "cell_type": "markdown",
   "metadata": {},
   "source": [
    "# Esercitazione 7"
   ]
  },
  {
   "cell_type": "code",
   "execution_count": 1,
   "metadata": {},
   "outputs": [
    {
     "data": {
      "text/html": [
       "\n",
       "<style>\n",
       ".output_png {\n",
       "    display: table-cell;\n",
       "    text-align: center;\n",
       "    vertical-align: middle;\n",
       "}\n",
       "</style>\n"
      ],
      "text/plain": [
       "<IPython.core.display.HTML object>"
      ]
     },
     "execution_count": 1,
     "metadata": {},
     "output_type": "execute_result"
    }
   ],
   "source": [
    "#matplotlib\n",
    "import matplotlib\n",
    "import matplotlib.pyplot as plt\n",
    "import matplotlib.gridspec as gridspec\n",
    "\n",
    "#numpy\n",
    "import numpy as np\n",
    "\n",
    "#center graphs\n",
    "from IPython.core.display import HTML\n",
    "HTML(\"\"\"\n",
    "<style>\n",
    ".output_png {\n",
    "    display: table-cell;\n",
    "    text-align: center;\n",
    "    vertical-align: middle;\n",
    "}\n",
    "</style>\n",
    "\"\"\")"
   ]
  },
  {
   "cell_type": "markdown",
   "metadata": {},
   "source": [
    "## Exercise 07.1\n",
    "In the MD/MC code we have provided, include tail corrections for potential energy, $U$, and pressure $P$.\n",
    "\n",
    "## Exercise 07.2\n",
    "\n",
    "Use the MD/MC code to print out instantaneous values of potential energy per particle, $U/N$, along **equilibrated** Monte Carlo simulations (of $M=5\\times 10^5$ MC steps and where the Metropolis acceptance ratio has been fixed approximately to 50%) in the following thermodynamic conditions:\n",
    "- solid phase: $\\rho^\\star = 1.1$, $T^\\star = 0.8$ (cut-off radius: $r_c = 2.2$)\n",
    "- liquid phase: $\\rho^\\star = 0.8$, $T^\\star = 1.1$ (cut-off radius: $r_c = 2.5$)\n",
    "- gas phase: $\\rho^\\star = 0.05$, $T^\\star = 1.2$ (cut-off radius: $r_c = 5.0$)\n",
    "\n",
    "1. Once this data has been produced, compute and make pictures with a python script of the autocorrelation functions of $U/N$ to approximately estimate how large the blocks in your simulations should be.\n",
    "2. Use the same data to study, with a python script, the estimation of the statistical uncertainties of the expectation value of $U/N$ for different size of the blocks in the data blocking technique, from $L=M/N=10$ to $L=5\\times 10^3$, being $N$ the number of blocks. Make pictures of these statistical uncertainties as a function of $L$.</span> What you observe in the statistical uncertainties after that the block size is large enough (from the point of view of the data blocking technique)?\n",
    "\n",
    "## Exercise 07.3\n",
    "\n",
    "Include the calculation of the radial distribution function, $g(r)$, as a function of the radial distance $r$ among particles, with $r \\in \\left[ 0; L/2\\right]$ inside the MD/MC code: average value of $g(r)$ in each block, final average value of $g(r)$ with statistical uncertainties in a separate file.\n",
    "\n",
    "## Exercise 07.4\n",
    "\n",
    "By means of your upgraded MD/MC code, equilibrate and perform MC NVT simulations via a Lennard-Jones model of Argon ($\\sigma = 0.34$ nm, $\\epsilon/k_B = 120$ K, $m=39.948$ amu) in the following conditions:\n",
    "1. solid phase: $\\rho^\\star = 1.1$, $T^\\star = 0.8$ (cut-off radius: $r_c = 2.2$)\n",
    "2. liquid phase: $\\rho^\\star = 0.8$, $T^\\star = 1.1$ (cut-off radius: $r_c = 2.5$)\n",
    "3. gas phase: $\\rho^\\star = 0.05$, $T^\\star = 1.2$ (cut-off radius: $r_c = 5.0$)\n",
    "\n",
    "show in pictures the obtained average values and uncertainties for the potential energy per particle, $U/N$, the pressure $P$ and the radial distribution function $g(r)$ in LJ units ... and compare your MC results for the radial distribution function, $g(r)$, with those obtained with Molecular Dynamics NVE simulations in similar thermodynamic conditions."
   ]
  },
  {
   "cell_type": "markdown",
   "metadata": {},
   "source": [
    "#### Risoluzione\n",
    "\n",
    "#### Ensemble Canonico\n",
    "L'ensemble canonico è un insieme di particelle o sistema fisico che può scambiare energia con un ambiente esterno a una temperatura costante. Esso rappresenta un sistema in equilibrio termico con un bagno termico a temperatura fissa. La descrizione microscopica dell'ensemble canonico è data dalla distribuzione di probabilità di Boltzmann, che fornisce la probabilità di trovare il sistema in un determinato stato energetico a una determinata temperatura.\n",
    "\n",
    "Dal punto di vista microscopico l'ensemble canonico è definito dalla seguente probabilità associata a ciascun microstato:\n",
    "$$\n",
    "P=\\frac{e^{-E/(k_BT)}}{Z} \\qquad \\qquad \\text{con} \\quad Z= e^{-F/(k_BT)}\n",
    "$$\n",
    "dove $F$ è l'energia libera di Helmholtz."
   ]
  },
  {
   "cell_type": "markdown",
   "metadata": {},
   "source": [
    "#### *Tail corrections*\n",
    "Si dimostra che per un potenziale di Lennard-Jones, le *tail corrections* per energia potenziale e pressione hanno la seguente forma:\n",
    "$$\n",
    "\\frac{\\langle U \\rangle _{tail}}{N}   = \\frac{8\\pi\\rho\\epsilon}{9 r_c^9} - \\frac{8\\pi\\rho\\epsilon}{3 r_c^3}\n",
    "\\qquad \\qquad \\frac{\\langle W \\rangle _{tail}}{3N\\epsilon}   = 32\\pi\\rho        \\left[            \\frac{1}{9 r_c^9}           - \\frac{1}{6 r_c^3}        \\right]\n",
    "$$\n",
    "dove tutte le grandezze si intendono in unità di LJ. Sfruttando il codice scritto nell'esercitazione 4, si sono implementate le *tail corrections* come richiesto."
   ]
  },
  {
   "cell_type": "markdown",
   "metadata": {},
   "source": [
    "#### Equilibrazione\n",
    "\n",
    "\n"
   ]
  },
  {
   "cell_type": "code",
   "execution_count": null,
   "metadata": {},
   "outputs": [],
   "source": []
  }
 ],
 "metadata": {
  "kernelspec": {
   "display_name": "Python 3 (ipykernel)",
   "language": "python",
   "name": "python3"
  },
  "language_info": {
   "codemirror_mode": {
    "name": "ipython",
    "version": 3
   },
   "file_extension": ".py",
   "mimetype": "text/x-python",
   "name": "python",
   "nbconvert_exporter": "python",
   "pygments_lexer": "ipython3",
   "version": "3.9.13"
  }
 },
 "nbformat": 4,
 "nbformat_minor": 2
}
