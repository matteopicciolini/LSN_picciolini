{
 "cells": [
  {
   "cell_type": "markdown",
   "id": "8d1ed88d",
   "metadata": {},
   "source": [
    "Matteo Picciolini\n",
    "\n",
    "# Esercitazione 8"
   ]
  },
  {
   "cell_type": "code",
   "execution_count": 1,
   "id": "32b40906",
   "metadata": {},
   "outputs": [
    {
     "data": {
      "text/html": [
       "\n",
       "<style>\n",
       ".output_png {\n",
       "    display: table-cell;\n",
       "    text-align: center;\n",
       "    vertical-align: middle;\n",
       "}\n",
       "</style>\n"
      ],
      "text/plain": [
       "<IPython.core.display.HTML object>"
      ]
     },
     "execution_count": 1,
     "metadata": {},
     "output_type": "execute_result"
    }
   ],
   "source": [
    "#matplotlib\n",
    "import matplotlib\n",
    "import matplotlib.pyplot as plt\n",
    "import matplotlib.gridspec as gridspec\n",
    "\n",
    "#numpy\n",
    "import numpy as np\n",
    "\n",
    "#center graphs\n",
    "from IPython.core.display import HTML\n",
    "HTML(\"\"\"\n",
    "<style>\n",
    ".output_png {\n",
    "    display: table-cell;\n",
    "    text-align: center;\n",
    "    vertical-align: middle;\n",
    "}\n",
    "</style>\n",
    "\"\"\")"
   ]
  },
  {
   "cell_type": "markdown",
   "id": "ef4576e2",
   "metadata": {},
   "source": [
    "## *Simulated Annealing*\n",
    "Il principio variazionale nella Meccanica Quantistica afferma che il valore di aspettazione dell'Hamiltoniana su uno stato quantistico di prova costituisce un limite inferiore all'energia dello stato fondamentale $E_0$.\n",
    "$$\n",
    "\\langle {\\hat H} \\rangle_T = \n",
    "\\frac{\\int dx \\Psi^*_T(x) {\\hat H} \\Psi_T(x)}\n",
    "{\\int dx |\\Psi_T(x)|^2} \\ge E_0 =\n",
    "\\frac{\\langle \\Psi_0| {\\hat H} | \\Psi_0 \\rangle}\n",
    "{\\langle \\Psi_0 | \\Psi_0 \\rangle}\n",
    "$$\n",
    "In questa esercitazione ottimizzerò il GS di una particella confinata nello spazio 1D dal potenziale\n",
    "$$\n",
    "V(x) = x^4 - \\frac{5}{2}x^2\n",
    "$$\n",
    "Poiché questo problema non può essere risolto analiticamente, devo utilizzare una funzione d'onda di prova (che è la somma di due gaussiane) con due parametri variazionali $\\sigma$ e $\\mu$. La ricerca del minimo di $\\langle {\\hat H} \\rangle_T$ avverrà esplorando lo spazio di questi due parametri. La funzione d'onda di prova è definita come segue:\n",
    "$$\n",
    "\\Psi_T^{\\sigma,\\mu}(x) \\propto e^{-\\frac{(x-\\mu)^2}{2\\sigma^2}}+\n",
    "                               e^{-\\frac{(x+\\mu)^2}{2\\sigma^2}}\n",
    "$$\n",
    "\n",
    "Il *Simulated Annealing* è un algoritmo di ottimizzazione che si basa sull'analogia con il processo di raffreddamento di un materiale. \n",
    "L'algoritmo del *Simulated Annealing* attribuisce a uno specifico parametro selezionato una certa \"mobilità\", comunemente quantificata tramite il concetto di \"temperatura\". Il sistema preso in considerazione viene quindi sottoposto a un processo di evoluzione, in cui la \"temperatura\" viene gradualmente ridotta affinché il parametro possa esplorare le diverse configurazioni e stabilizzarsi in un minimo. L'obiettivo è calibrare l'algoritmo in modo tale che il minimo raggiunto sia un \"minimo globale\". Tuttavia, per problemi complessi, non esiste un modo certo di determinare se il risultato ottenuto rappresenti effettivamente il minimo globale desiderato.\n",
    "\n",
    "Nel caso specifico dei parametri $\\mu$ e $\\sigma$, la \"temperatura\" viene utilizzata per indicare la \"mobilità\" di tali parametri."
   ]
  },
  {
   "cell_type": "markdown",
   "id": "35466c0a",
   "metadata": {},
   "source": [
    "### Exercise 08.1\n",
    "\n",
    "Write a Variational Monte Carlo code for a single quantum particle in 1D which exploits the Metropolis algorithm to sample the square modulus of our trial wave function $|\\Psi_T^{\\sigma,\\mu}(x)|^2$ using an uniform transition probability $T(x_{new}|x_{old})$. By using data blocking, the code should be able to compute the expectation value for the Hamiltonian\n",
    "\n",
    "$$\n",
    "\\langle {\\hat H} \\rangle_T = \n",
    "\\frac{\\int dx \\Psi^*_T(x) {\\hat H} \\Psi_T(x)}\n",
    "{\\int dx |\\Psi_T(x)|^2} = \n",
    "\\int dx \\frac{|\\Psi_T(x)|^2}{\\int dx |\\Psi_T(x)|^2} \\frac{{\\hat H} \\Psi_T(x)}{\\Psi_T(x)}\n",
    "$$\n",
    "\n",
    "which can be used to find the parameters that minimize this quantity. Use $\\hbar = 1$ and $m=1$.\n",
    "Note that to measure $\\langle {\\hat H} \\rangle_T$ you need the analytical calculation of:\n",
    "    \n",
    "$$\n",
    "\\frac{{-\\frac{\\hbar^2}{2m}\\frac{\\partial^2}{\\partial x^2}} \\Psi_T^{\\sigma,\\mu}(x)}{\\Psi_T^{\\sigma,\\mu}(x)}\n",
    "$$"
   ]
  },
  {
   "cell_type": "markdown",
   "id": "405ad1a8",
   "metadata": {},
   "source": [
    "### Exercise 08.2\n",
    "\n",
    "To find the parameters $\\sigma$ and $\\mu$ which minimize $\\langle {\\hat H} \\rangle_T$, extend your Variational Monte Carlo code to face the variational optimization problem via a Simulated Annealing (SA) algorithm.\n",
    "\n",
    "Choose an appropriate starting temperature for your SA algorithm and an appropriate temperature-update-law to make the optimization work.\n",
    "\n",
    "Compute $\\langle {\\hat H} \\rangle_T$ with enough statistics in order to be able to measure the lowering of $\\langle {\\hat H} \\rangle_T$ once the variational parameters are moved.\n",
    "\n",
    "- Show a picture of $\\langle {\\hat H} \\rangle_T$ (with statistical uncertainties) as a function of the SA steps of the algorithm\n",
    "- you could also show a picture of the trajectory of the SA algorithm in the variational parameter space as a function of the SA steps\n",
    "- show a picture of the estimation of $\\langle {\\hat H} \\rangle_T$ and its statistical uncertainty as a function of the number of blocks/MC steps for the set of parameters which minimize $\\langle {\\hat H} \\rangle_T$\n",
    "- show also a picture **of the sampled** $|\\Psi_T(x)|^2$ by filling a histogram with the sampled configurations, moreover compare it with the analytic curve of $|\\Psi_T(x)|^2$ and with the numerical solution obtained by transforming the Schrodinger equation into a matrix equation (see below the supplementary material)."
   ]
  },
  {
   "cell_type": "code",
   "execution_count": null,
   "id": "ff21c44b",
   "metadata": {},
   "outputs": [],
   "source": []
  }
 ],
 "metadata": {
  "kernelspec": {
   "display_name": "Python 3 (ipykernel)",
   "language": "python",
   "name": "python3"
  },
  "language_info": {
   "codemirror_mode": {
    "name": "ipython",
    "version": 3
   },
   "file_extension": ".py",
   "mimetype": "text/x-python",
   "name": "python",
   "nbconvert_exporter": "python",
   "pygments_lexer": "ipython3",
   "version": "3.9.13"
  }
 },
 "nbformat": 4,
 "nbformat_minor": 5
}
